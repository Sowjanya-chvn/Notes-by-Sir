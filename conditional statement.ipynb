{
 "cells": [
  {
   "cell_type": "code",
   "execution_count": 1,
   "id": "45a60eb8",
   "metadata": {},
   "outputs": [
    {
     "name": "stdout",
     "output_type": "stream",
     "text": [
      "3\n"
     ]
    }
   ],
   "source": [
    "x=1\n",
    "y=2\n",
    "z=x+y\n",
    "print(z)"
   ]
  },
  {
   "cell_type": "code",
   "execution_count": 8,
   "id": "fbab9c00",
   "metadata": {},
   "outputs": [
    {
     "name": "stdout",
     "output_type": "stream",
     "text": [
      "3\n"
     ]
    }
   ],
   "source": [
    "a=10\n",
    "if a>5:\n",
    "    x=1\n",
    "    y=2\n",
    "    z=x+y\n",
    "    print(z)"
   ]
  },
  {
   "cell_type": "code",
   "execution_count": 15,
   "id": "86fe2206",
   "metadata": {},
   "outputs": [
    {
     "name": "stdout",
     "output_type": "stream",
     "text": [
      "3\n"
     ]
    }
   ],
   "source": [
    "a=10\n",
    "if not(a%3==0 and a%2==0 and a%5==0 and a>5):\n",
    "    x=1\n",
    "    y=2\n",
    "    z=x+y\n",
    "    print(z) "
   ]
  },
  {
   "cell_type": "code",
   "execution_count": 19,
   "id": "dc3e8c0a",
   "metadata": {},
   "outputs": [
    {
     "name": "stdout",
     "output_type": "stream",
     "text": [
      "if block is not executed\n"
     ]
    }
   ],
   "source": [
    "a=1\n",
    "if a>5:\n",
    "    x=1\n",
    "    y=2\n",
    "    z=x+y\n",
    "    print(z)\n",
    "else:\n",
    " print(\"if block is not executed\")"
   ]
  },
  {
   "cell_type": "code",
   "execution_count": 20,
   "id": "1e304cb5",
   "metadata": {},
   "outputs": [
    {
     "name": "stdout",
     "output_type": "stream",
     "text": [
      "2\n"
     ]
    }
   ],
   "source": [
    "a=10\n",
    "if a>5:\n",
    "    x=1\n",
    "    y=2\n",
    "    z=x+y\n",
    "    print(z)\n",
    "else:\n",
    "    q=1\n",
    "    w=2\n",
    "    print(q*w)"
   ]
  },
  {
   "cell_type": "code",
   "execution_count": 25,
   "id": "e85014fa",
   "metadata": {},
   "outputs": [
    {
     "name": "stdout",
     "output_type": "stream",
     "text": [
      "type any number and will tell whheteh it is even or odd-2\n",
      "the number -2 is even\n"
     ]
    }
   ],
   "source": [
    "number=int(input(\"type any number and will tell whheteh it is even or odd\"))\n",
    "\n",
    "if number%2==0:\n",
    "    print(\"the number {} is even\".format(number))\n",
    "elif number%2!=0:\n",
    "    print(\"the number {} is odd\".format(number))\n",
    "else:\n",
    "    print(\"sry you have done a mistake while givig the input\")"
   ]
  },
  {
   "cell_type": "code",
   "execution_count": 26,
   "id": "04950e99",
   "metadata": {},
   "outputs": [
    {
     "data": {
      "text/plain": [
       "2"
      ]
     },
     "execution_count": 26,
     "metadata": {},
     "output_type": "execute_result"
    }
   ],
   "source": [
    "2"
   ]
  },
  {
   "cell_type": "code",
   "execution_count": 28,
   "id": "63f71421",
   "metadata": {},
   "outputs": [
    {
     "data": {
      "text/plain": [
       "6"
      ]
     },
     "execution_count": 28,
     "metadata": {},
     "output_type": "execute_result"
    }
   ],
   "source": [
    "2*3\n"
   ]
  },
  {
   "cell_type": "code",
   "execution_count": 34,
   "id": "971f98e9",
   "metadata": {},
   "outputs": [
    {
     "name": "stdout",
     "output_type": "stream",
     "text": [
      "type 1 number3\n",
      "type any of -,+,/,**,**\n",
      "type 2 number4\n"
     ]
    }
   ],
   "source": [
    "nub1=int(input(\"type 1 number\"))\n",
    "opera=input(\"type any of -,+,/,**,*\")\n",
    "nub2=int(input(\"type 2 number\"))"
   ]
  },
  {
   "cell_type": "code",
   "execution_count": 35,
   "id": "3df63fa8",
   "metadata": {},
   "outputs": [
    {
     "name": "stdout",
     "output_type": "stream",
     "text": [
      "3*4=12\n"
     ]
    }
   ],
   "source": [
    "if opera==\"+\":\n",
    "    print(\"{}+{}={}\".format(nub1,nub2,nub1+nub2))\n",
    "elif opera==\"-\":\n",
    "    print(\"{}-{}={}\".format(nub1,nub2,nub1-nub2))\n",
    "elif opera==\"*\":\n",
    "    print(\"{}*{}={}\".format(nub1,nub2,nub1*nub2))\n",
    "else:\n",
    "    print(\"operatore not found\")"
   ]
  },
  {
   "cell_type": "code",
   "execution_count": 37,
   "id": "d8133605",
   "metadata": {},
   "outputs": [
    {
     "data": {
      "text/plain": [
       "1.0"
      ]
     },
     "execution_count": 37,
     "metadata": {},
     "output_type": "execute_result"
    }
   ],
   "source": [
    "\n",
    "  "
   ]
  },
  {
   "cell_type": "code",
   "execution_count": null,
   "id": "dc5901db",
   "metadata": {},
   "outputs": [],
   "source": []
  }
 ],
 "metadata": {
  "kernelspec": {
   "display_name": "Python 3 (ipykernel)",
   "language": "python",
   "name": "python3"
  },
  "language_info": {
   "codemirror_mode": {
    "name": "ipython",
    "version": 3
   },
   "file_extension": ".py",
   "mimetype": "text/x-python",
   "name": "python",
   "nbconvert_exporter": "python",
   "pygments_lexer": "ipython3",
   "version": "3.9.13"
  }
 },
 "nbformat": 4,
 "nbformat_minor": 5
}
