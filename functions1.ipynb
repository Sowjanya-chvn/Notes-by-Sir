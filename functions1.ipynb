{
 "cells": [
  {
   "cell_type": "code",
   "execution_count": 1,
   "id": "efbafa51",
   "metadata": {},
   "outputs": [],
   "source": [
    "def f1():\n",
    "    print(\"hi\")"
   ]
  },
  {
   "cell_type": "code",
   "execution_count": 2,
   "id": "ef9fff58",
   "metadata": {},
   "outputs": [
    {
     "name": "stdout",
     "output_type": "stream",
     "text": [
      "hi\n"
     ]
    }
   ],
   "source": [
    "f1()"
   ]
  },
  {
   "cell_type": "code",
   "execution_count": 3,
   "id": "9ea8e770",
   "metadata": {},
   "outputs": [
    {
     "name": "stdout",
     "output_type": "stream",
     "text": [
      "hi\n"
     ]
    }
   ],
   "source": [
    "f1()"
   ]
  },
  {
   "cell_type": "code",
   "execution_count": 4,
   "id": "294629af",
   "metadata": {},
   "outputs": [],
   "source": [
    "def sum1():\n",
    "    num1=int(input())\n",
    "    num2=int(input())\n",
    "    print(num1+num2)"
   ]
  },
  {
   "cell_type": "code",
   "execution_count": 5,
   "id": "16a276ed",
   "metadata": {},
   "outputs": [
    {
     "name": "stdout",
     "output_type": "stream",
     "text": [
      "1\n",
      "2\n",
      "3\n"
     ]
    }
   ],
   "source": [
    "sum1()"
   ]
  },
  {
   "cell_type": "code",
   "execution_count": 6,
   "id": "e86e02cb",
   "metadata": {},
   "outputs": [
    {
     "name": "stdout",
     "output_type": "stream",
     "text": [
      "3\n",
      "2\n",
      "5\n"
     ]
    }
   ],
   "source": [
    "sum1()"
   ]
  },
  {
   "cell_type": "code",
   "execution_count": 7,
   "id": "05d40951",
   "metadata": {},
   "outputs": [],
   "source": [
    "def sum1(x,y):\n",
    "    print(x+y)"
   ]
  },
  {
   "cell_type": "code",
   "execution_count": 9,
   "id": "10544192",
   "metadata": {},
   "outputs": [
    {
     "name": "stdout",
     "output_type": "stream",
     "text": [
      "3\n"
     ]
    }
   ],
   "source": [
    "sum1(1,2)"
   ]
  },
  {
   "cell_type": "code",
   "execution_count": 10,
   "id": "e4114f57",
   "metadata": {},
   "outputs": [
    {
     "name": "stdout",
     "output_type": "stream",
     "text": [
      "30\n"
     ]
    }
   ],
   "source": [
    "sum1(10,20)"
   ]
  },
  {
   "cell_type": "code",
   "execution_count": 16,
   "id": "3750a99d",
   "metadata": {},
   "outputs": [],
   "source": [
    "def sum2(x1,x2,x3,x4,x5=10):\n",
    "    print(x1+x2+x3+x4+x5)"
   ]
  },
  {
   "cell_type": "code",
   "execution_count": 17,
   "id": "c18a5d80",
   "metadata": {},
   "outputs": [
    {
     "name": "stdout",
     "output_type": "stream",
     "text": [
      "20\n"
     ]
    }
   ],
   "source": [
    "sum2(1,2,3,4,1)"
   ]
  },
  {
   "cell_type": "code",
   "execution_count": 23,
   "id": "6d533ccc",
   "metadata": {},
   "outputs": [],
   "source": [
    "def sum2(x=1,y=2,z=3):\n",
    "    print(x+y+z+n)"
   ]
  },
  {
   "cell_type": "code",
   "execution_count": 24,
   "id": "7b4f4af6",
   "metadata": {},
   "outputs": [
    {
     "ename": "NameError",
     "evalue": "name 'n' is not defined",
     "output_type": "error",
     "traceback": [
      "\u001b[1;31m---------------------------------------------------------------------------\u001b[0m",
      "\u001b[1;31mNameError\u001b[0m                                 Traceback (most recent call last)",
      "\u001b[1;32m~\\AppData\\Local\\Temp\\ipykernel_4016\\2769318161.py\u001b[0m in \u001b[0;36m<module>\u001b[1;34m\u001b[0m\n\u001b[1;32m----> 1\u001b[1;33m \u001b[0msum2\u001b[0m\u001b[1;33m(\u001b[0m\u001b[1;36m2\u001b[0m\u001b[1;33m,\u001b[0m\u001b[1;36m2\u001b[0m\u001b[1;33m,\u001b[0m\u001b[1;36m3\u001b[0m\u001b[1;33m)\u001b[0m\u001b[1;33m\u001b[0m\u001b[1;33m\u001b[0m\u001b[0m\n\u001b[0m",
      "\u001b[1;32m~\\AppData\\Local\\Temp\\ipykernel_4016\\1895012995.py\u001b[0m in \u001b[0;36msum2\u001b[1;34m(x, y, z)\u001b[0m\n\u001b[0;32m      1\u001b[0m \u001b[1;32mdef\u001b[0m \u001b[0msum2\u001b[0m\u001b[1;33m(\u001b[0m\u001b[0mx\u001b[0m\u001b[1;33m=\u001b[0m\u001b[1;36m1\u001b[0m\u001b[1;33m,\u001b[0m\u001b[0my\u001b[0m\u001b[1;33m=\u001b[0m\u001b[1;36m2\u001b[0m\u001b[1;33m,\u001b[0m\u001b[0mz\u001b[0m\u001b[1;33m=\u001b[0m\u001b[1;36m3\u001b[0m\u001b[1;33m)\u001b[0m\u001b[1;33m:\u001b[0m\u001b[1;33m\u001b[0m\u001b[1;33m\u001b[0m\u001b[0m\n\u001b[1;32m----> 2\u001b[1;33m     \u001b[0mprint\u001b[0m\u001b[1;33m(\u001b[0m\u001b[0mx\u001b[0m\u001b[1;33m+\u001b[0m\u001b[0my\u001b[0m\u001b[1;33m+\u001b[0m\u001b[0mz\u001b[0m\u001b[1;33m+\u001b[0m\u001b[0mn\u001b[0m\u001b[1;33m)\u001b[0m\u001b[1;33m\u001b[0m\u001b[1;33m\u001b[0m\u001b[0m\n\u001b[0m",
      "\u001b[1;31mNameError\u001b[0m: name 'n' is not defined"
     ]
    }
   ],
   "source": [
    "sum2(2,2,3)"
   ]
  },
  {
   "cell_type": "code",
   "execution_count": 25,
   "id": "a621ae0d",
   "metadata": {},
   "outputs": [
    {
     "ename": "NameError",
     "evalue": "name 'n' is not defined",
     "output_type": "error",
     "traceback": [
      "\u001b[1;31m---------------------------------------------------------------------------\u001b[0m",
      "\u001b[1;31mNameError\u001b[0m                                 Traceback (most recent call last)",
      "\u001b[1;32m~\\AppData\\Local\\Temp\\ipykernel_4016\\1249512285.py\u001b[0m in \u001b[0;36m<module>\u001b[1;34m\u001b[0m\n\u001b[1;32m----> 1\u001b[1;33m \u001b[0mn\u001b[0m\u001b[1;33m\u001b[0m\u001b[1;33m\u001b[0m\u001b[0m\n\u001b[0m",
      "\u001b[1;31mNameError\u001b[0m: name 'n' is not defined"
     ]
    }
   ],
   "source": [
    "\"\"\"gfhgfhgfh\n",
    "dsf\n",
    "sdfdsf\n",
    "sdf\n",
    "ds\"\"\""
   ]
  },
  {
   "cell_type": "code",
   "execution_count": 48,
   "id": "ee6c10a4",
   "metadata": {},
   "outputs": [],
   "source": [
    "def bio(name,age,height):\n",
    "    \"\"\"this function prints your bio datsdsadsadsa\n",
    "    d\n",
    "    d\n",
    "    d\n",
    "    d\n",
    "    d\n",
    "    d\n",
    "    dsadad\"\"\"\n",
    "    print(\"my name is {}\".format(name))\n",
    "    print(\"my age is {}\".format(age))\n",
    "    print(\"my height is {}\".format(height))"
   ]
  },
  {
   "cell_type": "code",
   "execution_count": 47,
   "id": "ef6a2140",
   "metadata": {},
   "outputs": [
    {
     "name": "stdout",
     "output_type": "stream",
     "text": [
      "my name is saxon\n",
      "my age is 25\n",
      "my height is 159\n"
     ]
    }
   ],
   "source": [
    "bio(age=25,name=\"saxon\",height=159)"
   ]
  },
  {
   "cell_type": "code",
   "execution_count": 49,
   "id": "cb7defdd",
   "metadata": {},
   "outputs": [
    {
     "data": {
      "text/plain": [
       "'this function prints your bio datsdsadsadsa\\n    d\\n    d\\n    d\\n    d\\n    d\\n    d\\n    dsadad'"
      ]
     },
     "execution_count": 49,
     "metadata": {},
     "output_type": "execute_result"
    }
   ],
   "source": [
    "bio.__doc__"
   ]
  },
  {
   "cell_type": "code",
   "execution_count": 37,
   "id": "534fbfa4",
   "metadata": {},
   "outputs": [
    {
     "data": {
      "text/plain": [
       "\"print(value, ..., sep=' ', end='\\\\n', file=sys.stdout, flush=False)\\n\\nPrints the values to a stream, or to sys.stdout by default.\\nOptional keyword arguments:\\nfile:  a file-like object (stream); defaults to the current sys.stdout.\\nsep:   string inserted between values, default a space.\\nend:   string appended after the last value, default a newline.\\nflush: whether to forcibly flush the stream.\""
      ]
     },
     "execution_count": 37,
     "metadata": {},
     "output_type": "execute_result"
    }
   ],
   "source": [
    "print.__doc__"
   ]
  },
  {
   "cell_type": "code",
   "execution_count": null,
   "id": "20ebff05",
   "metadata": {},
   "outputs": [],
   "source": []
  }
 ],
 "metadata": {
  "kernelspec": {
   "display_name": "Python 3 (ipykernel)",
   "language": "python",
   "name": "python3"
  },
  "language_info": {
   "codemirror_mode": {
    "name": "ipython",
    "version": 3
   },
   "file_extension": ".py",
   "mimetype": "text/x-python",
   "name": "python",
   "nbconvert_exporter": "python",
   "pygments_lexer": "ipython3",
   "version": "3.9.13"
  }
 },
 "nbformat": 4,
 "nbformat_minor": 5
}
