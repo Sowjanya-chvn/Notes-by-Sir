{
 "cells": [
  {
   "cell_type": "code",
   "execution_count": 33,
   "id": "64bf0ada",
   "metadata": {},
   "outputs": [],
   "source": [
    "l=[11,12,13,\"a\",\"b\"]"
   ]
  },
  {
   "cell_type": "code",
   "execution_count": 2,
   "id": "3a75e233",
   "metadata": {},
   "outputs": [
    {
     "data": {
      "text/plain": [
       "5"
      ]
     },
     "execution_count": 2,
     "metadata": {},
     "output_type": "execute_result"
    }
   ],
   "source": [
    "len(l)"
   ]
  },
  {
   "cell_type": "code",
   "execution_count": 3,
   "id": "aca5787a",
   "metadata": {},
   "outputs": [
    {
     "data": {
      "text/plain": [
       "list"
      ]
     },
     "execution_count": 3,
     "metadata": {},
     "output_type": "execute_result"
    }
   ],
   "source": [
    "type(l)"
   ]
  },
  {
   "cell_type": "code",
   "execution_count": 9,
   "id": "d395cbdd",
   "metadata": {},
   "outputs": [
    {
     "data": {
      "text/plain": [
       "[11, 12, 13, 100, 'b']"
      ]
     },
     "execution_count": 9,
     "metadata": {},
     "output_type": "execute_result"
    }
   ],
   "source": [
    "l"
   ]
  },
  {
   "cell_type": "code",
   "execution_count": 6,
   "id": "cd07c6d3",
   "metadata": {},
   "outputs": [],
   "source": [
    "l[3]=100"
   ]
  },
  {
   "cell_type": "markdown",
   "id": "4cceb6ad",
   "metadata": {},
   "source": []
  },
  {
   "cell_type": "code",
   "execution_count": 95,
   "id": "6e8bf683",
   "metadata": {},
   "outputs": [
    {
     "ename": "TypeError",
     "evalue": "can only assign an iterable",
     "output_type": "error",
     "traceback": [
      "\u001b[1;31m---------------------------------------------------------------------------\u001b[0m",
      "\u001b[1;31mTypeError\u001b[0m                                 Traceback (most recent call last)",
      "\u001b[1;32m~\\AppData\\Local\\Temp\\ipykernel_1244\\3874039455.py\u001b[0m in \u001b[0;36m<module>\u001b[1;34m\u001b[0m\n\u001b[1;32m----> 1\u001b[1;33m \u001b[0ml\u001b[0m\u001b[1;33m[\u001b[0m\u001b[1;36m1\u001b[0m\u001b[1;33m:\u001b[0m\u001b[1;36m4\u001b[0m\u001b[1;33m]\u001b[0m\u001b[1;33m=\u001b[0m\u001b[1;36m200\u001b[0m\u001b[1;33m\u001b[0m\u001b[1;33m\u001b[0m\u001b[0m\n\u001b[0m",
      "\u001b[1;31mTypeError\u001b[0m: can only assign an iterable"
     ]
    }
   ],
   "source": [
    "l[1:4]=200"
   ]
  },
  {
   "cell_type": "code",
   "execution_count": 11,
   "id": "2b2cc7f8",
   "metadata": {},
   "outputs": [
    {
     "data": {
      "text/plain": [
       "[11, 200, 300, 400, 'b']"
      ]
     },
     "execution_count": 11,
     "metadata": {},
     "output_type": "execute_result"
    }
   ],
   "source": [
    "l"
   ]
  },
  {
   "cell_type": "code",
   "execution_count": 13,
   "id": "67eec9b9",
   "metadata": {},
   "outputs": [],
   "source": [
    "l[1:4]=[1,2,3]"
   ]
  },
  {
   "cell_type": "code",
   "execution_count": 14,
   "id": "5750b483",
   "metadata": {},
   "outputs": [
    {
     "data": {
      "text/plain": [
       "[11, 1, 2, 3, 'b']"
      ]
     },
     "execution_count": 14,
     "metadata": {},
     "output_type": "execute_result"
    }
   ],
   "source": [
    "l"
   ]
  },
  {
   "cell_type": "code",
   "execution_count": 16,
   "id": "a7beacc6",
   "metadata": {},
   "outputs": [],
   "source": [
    "l[1:4]=11,12"
   ]
  },
  {
   "cell_type": "code",
   "execution_count": 17,
   "id": "b5ca361b",
   "metadata": {},
   "outputs": [
    {
     "data": {
      "text/plain": [
       "[11, 11, 12, 'b']"
      ]
     },
     "execution_count": 17,
     "metadata": {},
     "output_type": "execute_result"
    }
   ],
   "source": [
    "l"
   ]
  },
  {
   "cell_type": "code",
   "execution_count": 24,
   "id": "204f8906",
   "metadata": {},
   "outputs": [
    {
     "ename": "TypeError",
     "evalue": "can only assign an iterable",
     "output_type": "error",
     "traceback": [
      "\u001b[1;31m---------------------------------------------------------------------------\u001b[0m",
      "\u001b[1;31mTypeError\u001b[0m                                 Traceback (most recent call last)",
      "\u001b[1;32m~\\AppData\\Local\\Temp\\ipykernel_1244\\3884744639.py\u001b[0m in \u001b[0;36m<module>\u001b[1;34m\u001b[0m\n\u001b[1;32m----> 1\u001b[1;33m \u001b[0ml\u001b[0m\u001b[1;33m[\u001b[0m\u001b[1;36m1\u001b[0m\u001b[1;33m:\u001b[0m\u001b[1;36m3\u001b[0m\u001b[1;33m]\u001b[0m\u001b[1;33m=\u001b[0m\u001b[1;36m0\u001b[0m\u001b[1;33m\u001b[0m\u001b[1;33m\u001b[0m\u001b[0m\n\u001b[0m",
      "\u001b[1;31mTypeError\u001b[0m: can only assign an iterable"
     ]
    }
   ],
   "source": [
    "l[1:3]=0,"
   ]
  },
  {
   "cell_type": "code",
   "execution_count": 23,
   "id": "d6235076",
   "metadata": {},
   "outputs": [
    {
     "data": {
      "text/plain": [
       "[11, 0, 'b']"
      ]
     },
     "execution_count": 23,
     "metadata": {},
     "output_type": "execute_result"
    }
   ],
   "source": [
    "l"
   ]
  },
  {
   "cell_type": "code",
   "execution_count": 26,
   "id": "490206b0",
   "metadata": {},
   "outputs": [
    {
     "data": {
      "text/plain": [
       "[11, 12, 13, 'a', 'b']"
      ]
     },
     "execution_count": 26,
     "metadata": {},
     "output_type": "execute_result"
    }
   ],
   "source": [
    "l"
   ]
  },
  {
   "cell_type": "code",
   "execution_count": 31,
   "id": "85c837ce",
   "metadata": {},
   "outputs": [],
   "source": [
    "l[2:4]=1,"
   ]
  },
  {
   "cell_type": "code",
   "execution_count": 32,
   "id": "b8e28280",
   "metadata": {},
   "outputs": [
    {
     "data": {
      "text/plain": [
       "[11, 12, 1]"
      ]
     },
     "execution_count": 32,
     "metadata": {},
     "output_type": "execute_result"
    }
   ],
   "source": [
    "l"
   ]
  },
  {
   "cell_type": "code",
   "execution_count": 34,
   "id": "4bbbd906",
   "metadata": {},
   "outputs": [
    {
     "data": {
      "text/plain": [
       "[11, 12, 13, 'a', 'b']"
      ]
     },
     "execution_count": 34,
     "metadata": {},
     "output_type": "execute_result"
    }
   ],
   "source": [
    "l"
   ]
  },
  {
   "cell_type": "code",
   "execution_count": 36,
   "id": "c3de1d08",
   "metadata": {},
   "outputs": [],
   "source": [
    "l[2:4]=1,2,3,4,5"
   ]
  },
  {
   "cell_type": "code",
   "execution_count": 37,
   "id": "ea28515d",
   "metadata": {},
   "outputs": [
    {
     "data": {
      "text/plain": [
       "[11, 12, 1, 2, 3, 4, 5, 'b']"
      ]
     },
     "execution_count": 37,
     "metadata": {},
     "output_type": "execute_result"
    }
   ],
   "source": [
    "l"
   ]
  },
  {
   "cell_type": "code",
   "execution_count": 38,
   "id": "1c784764",
   "metadata": {},
   "outputs": [
    {
     "data": {
      "text/plain": [
       "[11, 12, 1, 2, 3, 4, 5, 'b']"
      ]
     },
     "execution_count": 38,
     "metadata": {},
     "output_type": "execute_result"
    }
   ],
   "source": [
    "l"
   ]
  },
  {
   "cell_type": "code",
   "execution_count": 40,
   "id": "6f24bed3",
   "metadata": {},
   "outputs": [],
   "source": [
    "del l[2]"
   ]
  },
  {
   "cell_type": "code",
   "execution_count": 41,
   "id": "a08fb537",
   "metadata": {},
   "outputs": [
    {
     "data": {
      "text/plain": [
       "[11, 12, 2, 3, 4, 5, 'b']"
      ]
     },
     "execution_count": 41,
     "metadata": {},
     "output_type": "execute_result"
    }
   ],
   "source": [
    "l"
   ]
  },
  {
   "cell_type": "code",
   "execution_count": 42,
   "id": "dbc581c8",
   "metadata": {},
   "outputs": [
    {
     "data": {
      "text/plain": [
       "[11, 12, 2, 3, 4, 5, 'b']"
      ]
     },
     "execution_count": 42,
     "metadata": {},
     "output_type": "execute_result"
    }
   ],
   "source": [
    "l"
   ]
  },
  {
   "cell_type": "code",
   "execution_count": 44,
   "id": "f2809c69",
   "metadata": {},
   "outputs": [],
   "source": [
    "del l[2:5]"
   ]
  },
  {
   "cell_type": "code",
   "execution_count": 45,
   "id": "62c4eddb",
   "metadata": {},
   "outputs": [
    {
     "data": {
      "text/plain": [
       "[11, 12, 5, 'b']"
      ]
     },
     "execution_count": 45,
     "metadata": {},
     "output_type": "execute_result"
    }
   ],
   "source": [
    "l"
   ]
  },
  {
   "cell_type": "code",
   "execution_count": 46,
   "id": "6912bd3e",
   "metadata": {},
   "outputs": [],
   "source": [
    "l=[11,12,13,\"a\",\"b\"]"
   ]
  },
  {
   "cell_type": "code",
   "execution_count": 47,
   "id": "4e7cfa3b",
   "metadata": {},
   "outputs": [
    {
     "data": {
      "text/plain": [
       "[11, 12, 13, 'a', 'b']"
      ]
     },
     "execution_count": 47,
     "metadata": {},
     "output_type": "execute_result"
    }
   ],
   "source": [
    "l"
   ]
  },
  {
   "cell_type": "code",
   "execution_count": 49,
   "id": "4f1c5be6",
   "metadata": {},
   "outputs": [],
   "source": [
    "# list methods"
   ]
  },
  {
   "cell_type": "code",
   "execution_count": 50,
   "id": "e60e4251",
   "metadata": {},
   "outputs": [
    {
     "data": {
      "text/plain": [
       "[11, 12, 13, 'a', 'b']"
      ]
     },
     "execution_count": 50,
     "metadata": {},
     "output_type": "execute_result"
    }
   ],
   "source": [
    "l"
   ]
  },
  {
   "cell_type": "code",
   "execution_count": 55,
   "id": "db75ff5b",
   "metadata": {},
   "outputs": [],
   "source": [
    "l.insert(0,\"\")"
   ]
  },
  {
   "cell_type": "code",
   "execution_count": 56,
   "id": "0f4e9c80",
   "metadata": {},
   "outputs": [
    {
     "data": {
      "text/plain": [
       "[['a', 'b'], 'a', 11, 12, 13, 'a', 'b']"
      ]
     },
     "execution_count": 56,
     "metadata": {},
     "output_type": "execute_result"
    }
   ],
   "source": [
    "l"
   ]
  },
  {
   "cell_type": "code",
   "execution_count": 77,
   "id": "bbbd2a9e",
   "metadata": {},
   "outputs": [],
   "source": [
    "l=[11,12,13,\"a\",\"b\"]"
   ]
  },
  {
   "cell_type": "code",
   "execution_count": 58,
   "id": "52786e6a",
   "metadata": {},
   "outputs": [],
   "source": [
    "l.insert(-1,100)"
   ]
  },
  {
   "cell_type": "code",
   "execution_count": 59,
   "id": "dae02837",
   "metadata": {},
   "outputs": [
    {
     "data": {
      "text/plain": [
       "[11, 12, 13, 'a', 100, 'b']"
      ]
     },
     "execution_count": 59,
     "metadata": {},
     "output_type": "execute_result"
    }
   ],
   "source": [
    "l"
   ]
  },
  {
   "cell_type": "code",
   "execution_count": 60,
   "id": "55b18bc7",
   "metadata": {},
   "outputs": [],
   "source": [
    "l=[11,12,13,\"a\",\"b\"]\n",
    "l.insert(4,100)"
   ]
  },
  {
   "cell_type": "code",
   "execution_count": 61,
   "id": "44c7d6fc",
   "metadata": {},
   "outputs": [
    {
     "data": {
      "text/plain": [
       "[11, 12, 13, 'a', 100, 'b']"
      ]
     },
     "execution_count": 61,
     "metadata": {},
     "output_type": "execute_result"
    }
   ],
   "source": [
    "l"
   ]
  },
  {
   "cell_type": "code",
   "execution_count": 65,
   "id": "ecc35d21",
   "metadata": {},
   "outputs": [],
   "source": [
    "l.insert(2,200)"
   ]
  },
  {
   "cell_type": "code",
   "execution_count": 63,
   "id": "3164371a",
   "metadata": {},
   "outputs": [
    {
     "data": {
      "text/plain": [
       "[11, 12, 200, 13, 'a', 100, 'b']"
      ]
     },
     "execution_count": 63,
     "metadata": {},
     "output_type": "execute_result"
    }
   ],
   "source": [
    "l"
   ]
  },
  {
   "cell_type": "code",
   "execution_count": 66,
   "id": "1d1cd71c",
   "metadata": {},
   "outputs": [],
   "source": [
    "# append()"
   ]
  },
  {
   "cell_type": "code",
   "execution_count": 67,
   "id": "67f219bc",
   "metadata": {},
   "outputs": [
    {
     "data": {
      "text/plain": [
       "[11, 12, 200, 200, 13, 'a', 100, 'b']"
      ]
     },
     "execution_count": 67,
     "metadata": {},
     "output_type": "execute_result"
    }
   ],
   "source": [
    "l"
   ]
  },
  {
   "cell_type": "code",
   "execution_count": 68,
   "id": "6c595c90",
   "metadata": {},
   "outputs": [],
   "source": [
    "l.append(100)"
   ]
  },
  {
   "cell_type": "code",
   "execution_count": 69,
   "id": "3a61b1fa",
   "metadata": {},
   "outputs": [
    {
     "data": {
      "text/plain": [
       "[11, 12, 200, 200, 13, 'a', 100, 'b', 100]"
      ]
     },
     "execution_count": 69,
     "metadata": {},
     "output_type": "execute_result"
    }
   ],
   "source": [
    "l"
   ]
  },
  {
   "cell_type": "code",
   "execution_count": 70,
   "id": "ad8fb5db",
   "metadata": {},
   "outputs": [],
   "source": [
    "l.append(1+2j)"
   ]
  },
  {
   "cell_type": "code",
   "execution_count": 71,
   "id": "1f7cf72a",
   "metadata": {},
   "outputs": [
    {
     "data": {
      "text/plain": [
       "[11, 12, 200, 200, 13, 'a', 100, 'b', 100, (1+2j)]"
      ]
     },
     "execution_count": 71,
     "metadata": {},
     "output_type": "execute_result"
    }
   ],
   "source": [
    "l"
   ]
  },
  {
   "cell_type": "code",
   "execution_count": 75,
   "id": "bd48001c",
   "metadata": {},
   "outputs": [
    {
     "data": {
      "text/plain": [
       "tuple"
      ]
     },
     "execution_count": 75,
     "metadata": {},
     "output_type": "execute_result"
    }
   ],
   "source": [
    "type(l)"
   ]
  },
  {
   "cell_type": "code",
   "execution_count": 78,
   "id": "f85512a0",
   "metadata": {},
   "outputs": [
    {
     "data": {
      "text/plain": [
       "[11, 12, 13, 'a', 'b']"
      ]
     },
     "execution_count": 78,
     "metadata": {},
     "output_type": "execute_result"
    }
   ],
   "source": [
    "l"
   ]
  },
  {
   "cell_type": "code",
   "execution_count": 79,
   "id": "a3d59850",
   "metadata": {},
   "outputs": [
    {
     "data": {
      "text/plain": [
       "1"
      ]
     },
     "execution_count": 79,
     "metadata": {},
     "output_type": "execute_result"
    }
   ],
   "source": [
    "l.count(\"a\")"
   ]
  },
  {
   "cell_type": "code",
   "execution_count": 81,
   "id": "4d04aee6",
   "metadata": {},
   "outputs": [],
   "source": [
    "l.append(\"a\")\n",
    "l.append(\"a\")"
   ]
  },
  {
   "cell_type": "code",
   "execution_count": 82,
   "id": "9f42cf2a",
   "metadata": {},
   "outputs": [
    {
     "data": {
      "text/plain": [
       "[11, 12, 13, 'a', 'b', 'a', 'a', 'a']"
      ]
     },
     "execution_count": 82,
     "metadata": {},
     "output_type": "execute_result"
    }
   ],
   "source": [
    "l"
   ]
  },
  {
   "cell_type": "code",
   "execution_count": 83,
   "id": "de81682f",
   "metadata": {},
   "outputs": [
    {
     "data": {
      "text/plain": [
       "4"
      ]
     },
     "execution_count": 83,
     "metadata": {},
     "output_type": "execute_result"
    }
   ],
   "source": [
    "l.count(\"a\")"
   ]
  },
  {
   "cell_type": "code",
   "execution_count": 86,
   "id": "32c14bc4",
   "metadata": {},
   "outputs": [
    {
     "data": {
      "text/plain": [
       "3"
      ]
     },
     "execution_count": 86,
     "metadata": {},
     "output_type": "execute_result"
    }
   ],
   "source": [
    "l.index(\"a\")"
   ]
  },
  {
   "cell_type": "code",
   "execution_count": 87,
   "id": "d4f79fb2",
   "metadata": {},
   "outputs": [
    {
     "data": {
      "text/plain": [
       "[11, 12, 13, 'a', 'b', 'a', 'a', 'a']"
      ]
     },
     "execution_count": 87,
     "metadata": {},
     "output_type": "execute_result"
    }
   ],
   "source": [
    "l"
   ]
  },
  {
   "cell_type": "code",
   "execution_count": 88,
   "id": "e503ed8a",
   "metadata": {},
   "outputs": [],
   "source": [
    "# extend(\"sequential data\")"
   ]
  },
  {
   "cell_type": "code",
   "execution_count": 89,
   "id": "ff75e93f",
   "metadata": {},
   "outputs": [
    {
     "data": {
      "text/plain": [
       "[11, 12, 13, 'a', 'b', 'a', 'a', 'a']"
      ]
     },
     "execution_count": 89,
     "metadata": {},
     "output_type": "execute_result"
    }
   ],
   "source": [
    "l"
   ]
  },
  {
   "cell_type": "code",
   "execution_count": 91,
   "id": "40edd433",
   "metadata": {},
   "outputs": [],
   "source": [
    "l.extend([100,200,300,400,500])"
   ]
  },
  {
   "cell_type": "code",
   "execution_count": 92,
   "id": "5522a9ac",
   "metadata": {},
   "outputs": [
    {
     "data": {
      "text/plain": [
       "[11, 12, 13, 'a', 'b', 'a', 'a', 'a', 100, 200, 300, 400, 500]"
      ]
     },
     "execution_count": 92,
     "metadata": {},
     "output_type": "execute_result"
    }
   ],
   "source": [
    "l"
   ]
  },
  {
   "cell_type": "code",
   "execution_count": 93,
   "id": "9221b02f",
   "metadata": {},
   "outputs": [],
   "source": [
    "l.extend(\"abcde\")"
   ]
  },
  {
   "cell_type": "code",
   "execution_count": 94,
   "id": "f143acf7",
   "metadata": {},
   "outputs": [
    {
     "data": {
      "text/plain": [
       "[11,\n",
       " 12,\n",
       " 13,\n",
       " 'a',\n",
       " 'b',\n",
       " 'a',\n",
       " 'a',\n",
       " 'a',\n",
       " 100,\n",
       " 200,\n",
       " 300,\n",
       " 400,\n",
       " 500,\n",
       " 'a',\n",
       " 'b',\n",
       " 'c',\n",
       " 'd',\n",
       " 'e']"
      ]
     },
     "execution_count": 94,
     "metadata": {},
     "output_type": "execute_result"
    }
   ],
   "source": [
    "l"
   ]
  },
  {
   "cell_type": "code",
   "execution_count": 97,
   "id": "0ae4ba75",
   "metadata": {},
   "outputs": [],
   "source": [
    "l=[11,12,13,\"a\",\"b\",\"a\"]"
   ]
  },
  {
   "cell_type": "code",
   "execution_count": 98,
   "id": "2439b67e",
   "metadata": {},
   "outputs": [],
   "source": [
    "l.remove(11)"
   ]
  },
  {
   "cell_type": "code",
   "execution_count": 99,
   "id": "794b7a2f",
   "metadata": {},
   "outputs": [
    {
     "data": {
      "text/plain": [
       "[12, 13, 'a', 'b', 'a']"
      ]
     },
     "execution_count": 99,
     "metadata": {},
     "output_type": "execute_result"
    }
   ],
   "source": [
    "l"
   ]
  },
  {
   "cell_type": "code",
   "execution_count": 100,
   "id": "8ff87390",
   "metadata": {},
   "outputs": [],
   "source": [
    "l.remove(\"a\")"
   ]
  },
  {
   "cell_type": "code",
   "execution_count": 101,
   "id": "8a104913",
   "metadata": {},
   "outputs": [
    {
     "data": {
      "text/plain": [
       "[12, 13, 'b', 'a']"
      ]
     },
     "execution_count": 101,
     "metadata": {},
     "output_type": "execute_result"
    }
   ],
   "source": [
    "l"
   ]
  },
  {
   "cell_type": "code",
   "execution_count": 102,
   "id": "c231c9a7",
   "metadata": {},
   "outputs": [],
   "source": [
    "l.remove(\"a\")"
   ]
  },
  {
   "cell_type": "code",
   "execution_count": 103,
   "id": "1b5aace4",
   "metadata": {},
   "outputs": [
    {
     "data": {
      "text/plain": [
       "[12, 13, 'b']"
      ]
     },
     "execution_count": 103,
     "metadata": {},
     "output_type": "execute_result"
    }
   ],
   "source": [
    "l"
   ]
  },
  {
   "cell_type": "code",
   "execution_count": 104,
   "id": "9427f7f6",
   "metadata": {},
   "outputs": [],
   "source": [
    "#pop() "
   ]
  },
  {
   "cell_type": "code",
   "execution_count": 106,
   "id": "4dd737dc",
   "metadata": {},
   "outputs": [
    {
     "data": {
      "text/plain": [
       "11"
      ]
     },
     "execution_count": 106,
     "metadata": {},
     "output_type": "execute_result"
    }
   ],
   "source": [
    "l=[11,12,13,\"a\",\"b\",\"a\"]\n",
    "l.pop(0)"
   ]
  },
  {
   "cell_type": "code",
   "execution_count": 107,
   "id": "26057984",
   "metadata": {},
   "outputs": [
    {
     "data": {
      "text/plain": [
       "[12, 13, 'a', 'b', 'a']"
      ]
     },
     "execution_count": 107,
     "metadata": {},
     "output_type": "execute_result"
    }
   ],
   "source": [
    "l"
   ]
  },
  {
   "cell_type": "code",
   "execution_count": 108,
   "id": "17aa650f",
   "metadata": {},
   "outputs": [
    {
     "data": {
      "text/plain": [
       "'b'"
      ]
     },
     "execution_count": 108,
     "metadata": {},
     "output_type": "execute_result"
    }
   ],
   "source": [
    "l.pop(3)"
   ]
  },
  {
   "cell_type": "code",
   "execution_count": 109,
   "id": "d5629893",
   "metadata": {},
   "outputs": [
    {
     "data": {
      "text/plain": [
       "[12, 13, 'a', 'a']"
      ]
     },
     "execution_count": 109,
     "metadata": {},
     "output_type": "execute_result"
    }
   ],
   "source": [
    "l"
   ]
  },
  {
   "cell_type": "code",
   "execution_count": 110,
   "id": "53c4992e",
   "metadata": {},
   "outputs": [
    {
     "data": {
      "text/plain": [
       "'a'"
      ]
     },
     "execution_count": 110,
     "metadata": {},
     "output_type": "execute_result"
    }
   ],
   "source": [
    "l.pop()"
   ]
  },
  {
   "cell_type": "code",
   "execution_count": 111,
   "id": "2fcf321f",
   "metadata": {},
   "outputs": [
    {
     "data": {
      "text/plain": [
       "[12, 13, 'a']"
      ]
     },
     "execution_count": 111,
     "metadata": {},
     "output_type": "execute_result"
    }
   ],
   "source": [
    "l"
   ]
  },
  {
   "cell_type": "code",
   "execution_count": 112,
   "id": "7401c8b5",
   "metadata": {},
   "outputs": [
    {
     "data": {
      "text/plain": [
       "'a'"
      ]
     },
     "execution_count": 112,
     "metadata": {},
     "output_type": "execute_result"
    }
   ],
   "source": [
    "l.pop()"
   ]
  },
  {
   "cell_type": "code",
   "execution_count": 113,
   "id": "cee30c26",
   "metadata": {},
   "outputs": [
    {
     "data": {
      "text/plain": [
       "[12, 13]"
      ]
     },
     "execution_count": 113,
     "metadata": {},
     "output_type": "execute_result"
    }
   ],
   "source": [
    "l"
   ]
  },
  {
   "cell_type": "code",
   "execution_count": 114,
   "id": "57fef603",
   "metadata": {},
   "outputs": [
    {
     "data": {
      "text/plain": [
       "13"
      ]
     },
     "execution_count": 114,
     "metadata": {},
     "output_type": "execute_result"
    }
   ],
   "source": [
    "l.pop()"
   ]
  },
  {
   "cell_type": "code",
   "execution_count": 115,
   "id": "657caa34",
   "metadata": {},
   "outputs": [
    {
     "data": {
      "text/plain": [
       "[12]"
      ]
     },
     "execution_count": 115,
     "metadata": {},
     "output_type": "execute_result"
    }
   ],
   "source": [
    "l"
   ]
  },
  {
   "cell_type": "code",
   "execution_count": 116,
   "id": "a6650dd3",
   "metadata": {},
   "outputs": [
    {
     "data": {
      "text/plain": [
       "12"
      ]
     },
     "execution_count": 116,
     "metadata": {},
     "output_type": "execute_result"
    }
   ],
   "source": [
    "l.pop()"
   ]
  },
  {
   "cell_type": "code",
   "execution_count": 117,
   "id": "3cfee548",
   "metadata": {},
   "outputs": [
    {
     "data": {
      "text/plain": [
       "[]"
      ]
     },
     "execution_count": 117,
     "metadata": {},
     "output_type": "execute_result"
    }
   ],
   "source": [
    "l"
   ]
  },
  {
   "cell_type": "code",
   "execution_count": 118,
   "id": "886c850a",
   "metadata": {},
   "outputs": [],
   "source": [
    "l=[] # empty list"
   ]
  },
  {
   "cell_type": "code",
   "execution_count": 119,
   "id": "5720939b",
   "metadata": {},
   "outputs": [],
   "source": [
    "l=[11,12,13,\"a\",\"b\",\"a\"]\n",
    "l.clear()"
   ]
  },
  {
   "cell_type": "code",
   "execution_count": 120,
   "id": "c7c918a5",
   "metadata": {},
   "outputs": [
    {
     "data": {
      "text/plain": [
       "[]"
      ]
     },
     "execution_count": 120,
     "metadata": {},
     "output_type": "execute_result"
    }
   ],
   "source": [
    "l"
   ]
  },
  {
   "cell_type": "code",
   "execution_count": 121,
   "id": "8160ef30",
   "metadata": {},
   "outputs": [],
   "source": [
    "l=[11,12,13,\"a\",\"b\",\"a\"]\n",
    "z=l #view"
   ]
  },
  {
   "cell_type": "code",
   "execution_count": 122,
   "id": "e8752a1e",
   "metadata": {},
   "outputs": [
    {
     "data": {
      "text/plain": [
       "[11, 12, 13, 'a', 'b', 'a']"
      ]
     },
     "execution_count": 122,
     "metadata": {},
     "output_type": "execute_result"
    }
   ],
   "source": [
    "z"
   ]
  },
  {
   "cell_type": "code",
   "execution_count": 123,
   "id": "75f65be6",
   "metadata": {},
   "outputs": [],
   "source": [
    "del z[0]"
   ]
  },
  {
   "cell_type": "code",
   "execution_count": 124,
   "id": "c5cf066b",
   "metadata": {},
   "outputs": [
    {
     "data": {
      "text/plain": [
       "[12, 13, 'a', 'b', 'a']"
      ]
     },
     "execution_count": 124,
     "metadata": {},
     "output_type": "execute_result"
    }
   ],
   "source": [
    "z"
   ]
  },
  {
   "cell_type": "code",
   "execution_count": 125,
   "id": "7c954a24",
   "metadata": {},
   "outputs": [
    {
     "data": {
      "text/plain": [
       "[12, 13, 'a', 'b', 'a']"
      ]
     },
     "execution_count": 125,
     "metadata": {},
     "output_type": "execute_result"
    }
   ],
   "source": [
    "l"
   ]
  },
  {
   "cell_type": "code",
   "execution_count": 126,
   "id": "e09aa3f7",
   "metadata": {},
   "outputs": [
    {
     "data": {
      "text/plain": [
       "2755221353856"
      ]
     },
     "execution_count": 126,
     "metadata": {},
     "output_type": "execute_result"
    }
   ],
   "source": [
    "id(z)"
   ]
  },
  {
   "cell_type": "code",
   "execution_count": 127,
   "id": "f0ae741a",
   "metadata": {},
   "outputs": [
    {
     "data": {
      "text/plain": [
       "2755221353856"
      ]
     },
     "execution_count": 127,
     "metadata": {},
     "output_type": "execute_result"
    }
   ],
   "source": [
    "id(l)"
   ]
  },
  {
   "cell_type": "code",
   "execution_count": 128,
   "id": "7e411a2d",
   "metadata": {},
   "outputs": [],
   "source": [
    "l=[11,12,13,\"a\",\"b\",\"a\"]\n",
    "z=l.copy()"
   ]
  },
  {
   "cell_type": "code",
   "execution_count": 129,
   "id": "0edef6d5",
   "metadata": {},
   "outputs": [
    {
     "data": {
      "text/plain": [
       "2755221338816"
      ]
     },
     "execution_count": 129,
     "metadata": {},
     "output_type": "execute_result"
    }
   ],
   "source": [
    "id(l)"
   ]
  },
  {
   "cell_type": "code",
   "execution_count": 130,
   "id": "93c65555",
   "metadata": {},
   "outputs": [
    {
     "data": {
      "text/plain": [
       "2755221221056"
      ]
     },
     "execution_count": 130,
     "metadata": {},
     "output_type": "execute_result"
    }
   ],
   "source": [
    "id(z)"
   ]
  },
  {
   "cell_type": "code",
   "execution_count": 131,
   "id": "0ab8a091",
   "metadata": {},
   "outputs": [
    {
     "data": {
      "text/plain": [
       "[11, 12, 13, 'a', 'b', 'a']"
      ]
     },
     "execution_count": 131,
     "metadata": {},
     "output_type": "execute_result"
    }
   ],
   "source": [
    "z"
   ]
  },
  {
   "cell_type": "code",
   "execution_count": 132,
   "id": "cf3b744a",
   "metadata": {},
   "outputs": [],
   "source": [
    "del z[0]"
   ]
  },
  {
   "cell_type": "code",
   "execution_count": 133,
   "id": "531347f3",
   "metadata": {},
   "outputs": [
    {
     "data": {
      "text/plain": [
       "[12, 13, 'a', 'b', 'a']"
      ]
     },
     "execution_count": 133,
     "metadata": {},
     "output_type": "execute_result"
    }
   ],
   "source": [
    "z"
   ]
  },
  {
   "cell_type": "code",
   "execution_count": 134,
   "id": "b3275b97",
   "metadata": {},
   "outputs": [
    {
     "data": {
      "text/plain": [
       "[11, 12, 13, 'a', 'b', 'a']"
      ]
     },
     "execution_count": 134,
     "metadata": {},
     "output_type": "execute_result"
    }
   ],
   "source": [
    "l"
   ]
  },
  {
   "cell_type": "code",
   "execution_count": 137,
   "id": "cb1a4fac",
   "metadata": {},
   "outputs": [],
   "source": [
    "l=[\"fn\",\"ln\",54,156.3]\n",
    "bio_data=\"my name is {} {}  my age is {} my hieght is {}\".format(l[0],l[1],l[2],l[3])"
   ]
  },
  {
   "cell_type": "code",
   "execution_count": 138,
   "id": "724726a3",
   "metadata": {},
   "outputs": [
    {
     "data": {
      "text/plain": [
       "'my name is fn ln  my age is 54 my hieght is 156.3'"
      ]
     },
     "execution_count": 138,
     "metadata": {},
     "output_type": "execute_result"
    }
   ],
   "source": [
    "bio_data"
   ]
  },
  {
   "cell_type": "code",
   "execution_count": 139,
   "id": "cbe30e85",
   "metadata": {},
   "outputs": [],
   "source": [
    "# sort() -- list homogenous"
   ]
  },
  {
   "cell_type": "code",
   "execution_count": 141,
   "id": "d767c02c",
   "metadata": {},
   "outputs": [],
   "source": [
    "l=[11,2,13,9,10]\n",
    "l.sort()"
   ]
  },
  {
   "cell_type": "code",
   "execution_count": 142,
   "id": "fa4da5d6",
   "metadata": {},
   "outputs": [
    {
     "data": {
      "text/plain": [
       "[2, 9, 10, 11, 13]"
      ]
     },
     "execution_count": 142,
     "metadata": {},
     "output_type": "execute_result"
    }
   ],
   "source": [
    "l"
   ]
  },
  {
   "cell_type": "code",
   "execution_count": 143,
   "id": "e9dfc5b9",
   "metadata": {},
   "outputs": [],
   "source": [
    "l.sort(reverse=True)"
   ]
  },
  {
   "cell_type": "code",
   "execution_count": 144,
   "id": "7bc4a5b3",
   "metadata": {},
   "outputs": [
    {
     "data": {
      "text/plain": [
       "[13, 11, 10, 9, 2]"
      ]
     },
     "execution_count": 144,
     "metadata": {},
     "output_type": "execute_result"
    }
   ],
   "source": [
    "l"
   ]
  },
  {
   "cell_type": "code",
   "execution_count": 151,
   "id": "b27beb6c",
   "metadata": {},
   "outputs": [],
   "source": [
    "l=[\"a\",\"c\",\"b\",\"d\",\"A\",\"B\"]\n",
    "l.sort()"
   ]
  },
  {
   "cell_type": "code",
   "execution_count": 152,
   "id": "c9495c6d",
   "metadata": {},
   "outputs": [
    {
     "data": {
      "text/plain": [
       "['A', 'B', 'a', 'b', 'c', 'd']"
      ]
     },
     "execution_count": 152,
     "metadata": {},
     "output_type": "execute_result"
    }
   ],
   "source": [
    "l"
   ]
  },
  {
   "cell_type": "code",
   "execution_count": 153,
   "id": "00bc6570",
   "metadata": {},
   "outputs": [],
   "source": [
    "l.reverse()"
   ]
  },
  {
   "cell_type": "code",
   "execution_count": 154,
   "id": "49b3d4f4",
   "metadata": {},
   "outputs": [
    {
     "data": {
      "text/plain": [
       "['d', 'c', 'b', 'a', 'B', 'A']"
      ]
     },
     "execution_count": 154,
     "metadata": {},
     "output_type": "execute_result"
    }
   ],
   "source": [
    "l"
   ]
  },
  {
   "cell_type": "code",
   "execution_count": null,
   "id": "af4df0c0",
   "metadata": {},
   "outputs": [],
   "source": [
    "  v"
   ]
  }
 ],
 "metadata": {
  "kernelspec": {
   "display_name": "Python 3 (ipykernel)",
   "language": "python",
   "name": "python3"
  },
  "language_info": {
   "codemirror_mode": {
    "name": "ipython",
    "version": 3
   },
   "file_extension": ".py",
   "mimetype": "text/x-python",
   "name": "python",
   "nbconvert_exporter": "python",
   "pygments_lexer": "ipython3",
   "version": "3.9.13"
  }
 },
 "nbformat": 4,
 "nbformat_minor": 5
}
