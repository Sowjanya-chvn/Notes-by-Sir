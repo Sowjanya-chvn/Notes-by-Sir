{
 "cells": [
  {
   "cell_type": "code",
   "execution_count": 13,
   "id": "56a2067a",
   "metadata": {},
   "outputs": [],
   "source": [
    "def f1(*x):\n",
    "    print(x)"
   ]
  },
  {
   "cell_type": "code",
   "execution_count": 14,
   "id": "ec64aaf8",
   "metadata": {},
   "outputs": [
    {
     "name": "stdout",
     "output_type": "stream",
     "text": [
      "(1, 2, 3, 4, 5, 6)\n"
     ]
    }
   ],
   "source": [
    "f1(1,2,3,4,5,6)"
   ]
  },
  {
   "cell_type": "code",
   "execution_count": 56,
   "id": "3ad1f8b6",
   "metadata": {},
   "outputs": [],
   "source": [
    "def f2(*x):\n",
    "    for y in x:\n",
    "        print(y)\n",
    "    return \"hi\"\n",
    "    return \"bye\""
   ]
  },
  {
   "cell_type": "code",
   "execution_count": 57,
   "id": "c7b59c70",
   "metadata": {},
   "outputs": [
    {
     "name": "stdout",
     "output_type": "stream",
     "text": [
      "1\n",
      "2\n",
      "4\n",
      "5\n",
      "6\n",
      "7\n",
      "8\n",
      "x\n",
      "hi\n"
     ]
    }
   ],
   "source": [
    "c=f2(1,2,4,5,6,7,8,\"x\")\n",
    "print(c)"
   ]
  },
  {
   "cell_type": "code",
   "execution_count": 64,
   "id": "6bd99f00",
   "metadata": {},
   "outputs": [],
   "source": [
    "def even_no(*x):\n",
    "    print(x)\n",
    "    l=[]\n",
    "    for y in x:\n",
    "        if y%2==0:\n",
    "            l.append(y)\n",
    "    return l,\"hi\""
   ]
  },
  {
   "cell_type": "code",
   "execution_count": 65,
   "id": "595e8d73",
   "metadata": {},
   "outputs": [
    {
     "name": "stdout",
     "output_type": "stream",
     "text": [
      "(1, 2, 3)\n"
     ]
    },
    {
     "data": {
      "text/plain": [
       "([2], 'hi')"
      ]
     },
     "execution_count": 65,
     "metadata": {},
     "output_type": "execute_result"
    }
   ],
   "source": [
    "wi=even_no # assigning the function to a variable\n",
    "wi(1,2,3)"
   ]
  },
  {
   "cell_type": "code",
   "execution_count": 66,
   "id": "7eebb0cb",
   "metadata": {},
   "outputs": [
    {
     "name": "stdout",
     "output_type": "stream",
     "text": [
      "(1, 2)\n"
     ]
    },
    {
     "data": {
      "text/plain": [
       "([2], 'hi')"
      ]
     },
     "execution_count": 66,
     "metadata": {},
     "output_type": "execute_result"
    }
   ],
   "source": [
    "w=even_no(1,2)\n",
    "w"
   ]
  },
  {
   "cell_type": "code",
   "execution_count": 48,
   "id": "f646127f",
   "metadata": {},
   "outputs": [],
   "source": [
    "x=even_no(1,2,3,4,5,6,7,8)"
   ]
  },
  {
   "cell_type": "code",
   "execution_count": 49,
   "id": "55fe0b00",
   "metadata": {},
   "outputs": [
    {
     "data": {
      "text/plain": [
       "'bye'"
      ]
     },
     "execution_count": 49,
     "metadata": {},
     "output_type": "execute_result"
    }
   ],
   "source": [
    "x"
   ]
  },
  {
   "cell_type": "code",
   "execution_count": 79,
   "id": "4fce1dc9",
   "metadata": {},
   "outputs": [],
   "source": [
    "def f1(x):\n",
    "    l=[]\n",
    "    for y in range(len(x)):\n",
    "        if y%2!=0:\n",
    "            l.append(x[y])\n",
    "    return \"h1\",1,2,3,4"
   ]
  },
  {
   "cell_type": "code",
   "execution_count": 80,
   "id": "9fb2891e",
   "metadata": {},
   "outputs": [],
   "source": [
    "c=f1(\"AbcdE\")"
   ]
  },
  {
   "cell_type": "code",
   "execution_count": 82,
   "id": "0900e33f",
   "metadata": {},
   "outputs": [
    {
     "data": {
      "text/plain": [
       "[1, 2, 3, 4, 5, 6, 7, 8, 9]"
      ]
     },
     "execution_count": 82,
     "metadata": {},
     "output_type": "execute_result"
    }
   ],
   "source": [
    "[y for y in range(1,10)]"
   ]
  },
  {
   "cell_type": "code",
   "execution_count": null,
   "id": "5b2c6912",
   "metadata": {},
   "outputs": [],
   "source": [
    "l=[]\n",
    "for y in range(1,10):\n"
   ]
  }
 ],
 "metadata": {
  "kernelspec": {
   "display_name": "Python 3 (ipykernel)",
   "language": "python",
   "name": "python3"
  },
  "language_info": {
   "codemirror_mode": {
    "name": "ipython",
    "version": 3
   },
   "file_extension": ".py",
   "mimetype": "text/x-python",
   "name": "python",
   "nbconvert_exporter": "python",
   "pygments_lexer": "ipython3",
   "version": "3.9.13"
  }
 },
 "nbformat": 4,
 "nbformat_minor": 5
}
