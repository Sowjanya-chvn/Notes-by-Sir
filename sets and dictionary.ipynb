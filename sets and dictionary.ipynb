{
 "cells": [
  {
   "cell_type": "code",
   "execution_count": 1,
   "id": "713b9dcf",
   "metadata": {},
   "outputs": [],
   "source": [
    "var1={1,2,3,\"a\",\"b\",1.1}"
   ]
  },
  {
   "cell_type": "code",
   "execution_count": 2,
   "id": "99394605",
   "metadata": {},
   "outputs": [
    {
     "data": {
      "text/plain": [
       "{1, 1.1, 2, 3, 'a', 'b'}"
      ]
     },
     "execution_count": 2,
     "metadata": {},
     "output_type": "execute_result"
    }
   ],
   "source": [
    "var1"
   ]
  },
  {
   "cell_type": "code",
   "execution_count": 4,
   "id": "497ef6f5",
   "metadata": {},
   "outputs": [
    {
     "data": {
      "text/plain": [
       "set"
      ]
     },
     "execution_count": 4,
     "metadata": {},
     "output_type": "execute_result"
    }
   ],
   "source": [
    "type(var1)"
   ]
  },
  {
   "cell_type": "code",
   "execution_count": 5,
   "id": "b0c5c5f7",
   "metadata": {},
   "outputs": [
    {
     "data": {
      "text/plain": [
       "6"
      ]
     },
     "execution_count": 5,
     "metadata": {},
     "output_type": "execute_result"
    }
   ],
   "source": [
    "len(var1)"
   ]
  },
  {
   "cell_type": "code",
   "execution_count": 6,
   "id": "5e8139ae",
   "metadata": {},
   "outputs": [],
   "source": [
    "var2=set((1,2,\"a\",\"b\"))"
   ]
  },
  {
   "cell_type": "code",
   "execution_count": 7,
   "id": "7246b482",
   "metadata": {},
   "outputs": [
    {
     "data": {
      "text/plain": [
       "{1, 2, 'a', 'b'}"
      ]
     },
     "execution_count": 7,
     "metadata": {},
     "output_type": "execute_result"
    }
   ],
   "source": [
    "var2"
   ]
  },
  {
   "cell_type": "code",
   "execution_count": 8,
   "id": "14fe6128",
   "metadata": {},
   "outputs": [
    {
     "data": {
      "text/plain": [
       "set"
      ]
     },
     "execution_count": 8,
     "metadata": {},
     "output_type": "execute_result"
    }
   ],
   "source": [
    "type(var2)"
   ]
  },
  {
   "cell_type": "code",
   "execution_count": 9,
   "id": "d1ad2464",
   "metadata": {},
   "outputs": [
    {
     "data": {
      "text/plain": [
       "{1, 1.1, 2, 3, 'a', 'b'}"
      ]
     },
     "execution_count": 9,
     "metadata": {},
     "output_type": "execute_result"
    }
   ],
   "source": [
    "var1"
   ]
  },
  {
   "cell_type": "code",
   "execution_count": 10,
   "id": "77e45f86",
   "metadata": {},
   "outputs": [
    {
     "data": {
      "text/plain": [
       "{1, 1.1, 2, 3, 'a', 'b'}"
      ]
     },
     "execution_count": 10,
     "metadata": {},
     "output_type": "execute_result"
    }
   ],
   "source": [
    "var1\n"
   ]
  },
  {
   "cell_type": "code",
   "execution_count": 11,
   "id": "dafb052e",
   "metadata": {},
   "outputs": [
    {
     "ename": "TypeError",
     "evalue": "'set' object is not subscriptable",
     "output_type": "error",
     "traceback": [
      "\u001b[1;31m---------------------------------------------------------------------------\u001b[0m",
      "\u001b[1;31mTypeError\u001b[0m                                 Traceback (most recent call last)",
      "\u001b[1;32m~\\AppData\\Local\\Temp\\ipykernel_1416\\3078083923.py\u001b[0m in \u001b[0;36m<module>\u001b[1;34m\u001b[0m\n\u001b[1;32m----> 1\u001b[1;33m \u001b[0mvar1\u001b[0m\u001b[1;33m[\u001b[0m\u001b[1;36m0\u001b[0m\u001b[1;33m]\u001b[0m\u001b[1;33m\u001b[0m\u001b[1;33m\u001b[0m\u001b[0m\n\u001b[0m",
      "\u001b[1;31mTypeError\u001b[0m: 'set' object is not subscriptable"
     ]
    }
   ],
   "source": [
    "var1[0]"
   ]
  },
  {
   "cell_type": "code",
   "execution_count": 12,
   "id": "3285be72",
   "metadata": {},
   "outputs": [
    {
     "ename": "TypeError",
     "evalue": "'set' object is not subscriptable",
     "output_type": "error",
     "traceback": [
      "\u001b[1;31m---------------------------------------------------------------------------\u001b[0m",
      "\u001b[1;31mTypeError\u001b[0m                                 Traceback (most recent call last)",
      "\u001b[1;32m~\\AppData\\Local\\Temp\\ipykernel_1416\\3700252035.py\u001b[0m in \u001b[0;36m<module>\u001b[1;34m\u001b[0m\n\u001b[1;32m----> 1\u001b[1;33m \u001b[0mvar1\u001b[0m\u001b[1;33m[\u001b[0m\u001b[1;33m:\u001b[0m\u001b[1;33m]\u001b[0m\u001b[1;33m\u001b[0m\u001b[1;33m\u001b[0m\u001b[0m\n\u001b[0m",
      "\u001b[1;31mTypeError\u001b[0m: 'set' object is not subscriptable"
     ]
    }
   ],
   "source": [
    "var1[:]"
   ]
  },
  {
   "cell_type": "code",
   "execution_count": 15,
   "id": "ffad3a54",
   "metadata": {},
   "outputs": [],
   "source": [
    "var3={1,1,1,1,1,2,2,2,2}"
   ]
  },
  {
   "cell_type": "code",
   "execution_count": 16,
   "id": "9a050556",
   "metadata": {},
   "outputs": [
    {
     "data": {
      "text/plain": [
       "{1, 2}"
      ]
     },
     "execution_count": 16,
     "metadata": {},
     "output_type": "execute_result"
    }
   ],
   "source": [
    "var3"
   ]
  },
  {
   "cell_type": "code",
   "execution_count": 17,
   "id": "5ccb8011",
   "metadata": {},
   "outputs": [
    {
     "data": {
      "text/plain": [
       "{1, 1.1, 2, 3, 'a', 'b'}"
      ]
     },
     "execution_count": 17,
     "metadata": {},
     "output_type": "execute_result"
    }
   ],
   "source": [
    "var1\n"
   ]
  },
  {
   "cell_type": "code",
   "execution_count": 18,
   "id": "a03b1e6d",
   "metadata": {},
   "outputs": [
    {
     "ename": "TypeError",
     "evalue": "'set' object does not support item assignment",
     "output_type": "error",
     "traceback": [
      "\u001b[1;31m---------------------------------------------------------------------------\u001b[0m",
      "\u001b[1;31mTypeError\u001b[0m                                 Traceback (most recent call last)",
      "\u001b[1;32m~\\AppData\\Local\\Temp\\ipykernel_1416\\3701599099.py\u001b[0m in \u001b[0;36m<module>\u001b[1;34m\u001b[0m\n\u001b[1;32m----> 1\u001b[1;33m \u001b[0mvar1\u001b[0m\u001b[1;33m[\u001b[0m\u001b[1;36m0\u001b[0m\u001b[1;33m]\u001b[0m\u001b[1;33m=\u001b[0m\u001b[1;36m100\u001b[0m\u001b[1;33m\u001b[0m\u001b[1;33m\u001b[0m\u001b[0m\n\u001b[0m",
      "\u001b[1;31mTypeError\u001b[0m: 'set' object does not support item assignment"
     ]
    }
   ],
   "source": [
    "var1[0]=100"
   ]
  },
  {
   "cell_type": "code",
   "execution_count": 19,
   "id": "39a9399f",
   "metadata": {},
   "outputs": [],
   "source": [
    "# add()"
   ]
  },
  {
   "cell_type": "code",
   "execution_count": 20,
   "id": "7decf947",
   "metadata": {},
   "outputs": [
    {
     "data": {
      "text/plain": [
       "{1, 1.1, 2, 3, 'a', 'b'}"
      ]
     },
     "execution_count": 20,
     "metadata": {},
     "output_type": "execute_result"
    }
   ],
   "source": [
    "var1"
   ]
  },
  {
   "cell_type": "code",
   "execution_count": 21,
   "id": "8ce00c2a",
   "metadata": {},
   "outputs": [],
   "source": [
    "var1.add(\"abcdef\")"
   ]
  },
  {
   "cell_type": "code",
   "execution_count": 22,
   "id": "8d0b300b",
   "metadata": {},
   "outputs": [
    {
     "data": {
      "text/plain": [
       "{1, 1.1, 2, 3, 'a', 'abcdef', 'b'}"
      ]
     },
     "execution_count": 22,
     "metadata": {},
     "output_type": "execute_result"
    }
   ],
   "source": [
    "var1"
   ]
  },
  {
   "cell_type": "code",
   "execution_count": 23,
   "id": "9f6d6ab0",
   "metadata": {},
   "outputs": [],
   "source": [
    "var1.add(100)"
   ]
  },
  {
   "cell_type": "code",
   "execution_count": 24,
   "id": "bc7a27fe",
   "metadata": {},
   "outputs": [
    {
     "data": {
      "text/plain": [
       "{1, 1.1, 100, 2, 3, 'a', 'abcdef', 'b'}"
      ]
     },
     "execution_count": 24,
     "metadata": {},
     "output_type": "execute_result"
    }
   ],
   "source": [
    "var1"
   ]
  },
  {
   "cell_type": "code",
   "execution_count": 25,
   "id": "07c4ffcb",
   "metadata": {},
   "outputs": [],
   "source": [
    "# update()"
   ]
  },
  {
   "cell_type": "code",
   "execution_count": 27,
   "id": "1630c51f",
   "metadata": {},
   "outputs": [],
   "source": [
    "var1.update(\"bcde\")"
   ]
  },
  {
   "cell_type": "code",
   "execution_count": 28,
   "id": "05b74e7d",
   "metadata": {},
   "outputs": [
    {
     "data": {
      "text/plain": [
       "{1, 1.1, 100, 2, 3, 'a', 'abcdef', 'b', 'c', 'd', 'e'}"
      ]
     },
     "execution_count": 28,
     "metadata": {},
     "output_type": "execute_result"
    }
   ],
   "source": [
    "var1"
   ]
  },
  {
   "cell_type": "code",
   "execution_count": 29,
   "id": "29a3bdc7",
   "metadata": {},
   "outputs": [],
   "source": [
    "var1.update([100,200,300])"
   ]
  },
  {
   "cell_type": "code",
   "execution_count": 30,
   "id": "c74e16e3",
   "metadata": {},
   "outputs": [
    {
     "data": {
      "text/plain": [
       "{1, 1.1, 100, 2, 200, 3, 300, 'a', 'abcdef', 'b', 'c', 'd', 'e'}"
      ]
     },
     "execution_count": 30,
     "metadata": {},
     "output_type": "execute_result"
    }
   ],
   "source": [
    "var1"
   ]
  },
  {
   "cell_type": "code",
   "execution_count": 31,
   "id": "13b02013",
   "metadata": {},
   "outputs": [],
   "source": [
    "var1.update((100,200,300,400))"
   ]
  },
  {
   "cell_type": "code",
   "execution_count": 32,
   "id": "173773bb",
   "metadata": {},
   "outputs": [
    {
     "data": {
      "text/plain": [
       "{1, 1.1, 100, 2, 200, 3, 300, 400, 'a', 'abcdef', 'b', 'c', 'd', 'e'}"
      ]
     },
     "execution_count": 32,
     "metadata": {},
     "output_type": "execute_result"
    }
   ],
   "source": [
    "var1"
   ]
  },
  {
   "cell_type": "code",
   "execution_count": 33,
   "id": "1337708b",
   "metadata": {},
   "outputs": [
    {
     "ename": "TypeError",
     "evalue": "'int' object is not iterable",
     "output_type": "error",
     "traceback": [
      "\u001b[1;31m---------------------------------------------------------------------------\u001b[0m",
      "\u001b[1;31mTypeError\u001b[0m                                 Traceback (most recent call last)",
      "\u001b[1;32m~\\AppData\\Local\\Temp\\ipykernel_1416\\4123027815.py\u001b[0m in \u001b[0;36m<module>\u001b[1;34m\u001b[0m\n\u001b[1;32m----> 1\u001b[1;33m \u001b[0mvar1\u001b[0m\u001b[1;33m.\u001b[0m\u001b[0mupdate\u001b[0m\u001b[1;33m(\u001b[0m\u001b[1;36m100\u001b[0m\u001b[1;33m)\u001b[0m\u001b[1;33m\u001b[0m\u001b[1;33m\u001b[0m\u001b[0m\n\u001b[0m",
      "\u001b[1;31mTypeError\u001b[0m: 'int' object is not iterable"
     ]
    }
   ],
   "source": [
    "var1.update(100)"
   ]
  },
  {
   "cell_type": "code",
   "execution_count": 34,
   "id": "6c268700",
   "metadata": {},
   "outputs": [],
   "source": [
    "# remove()"
   ]
  },
  {
   "cell_type": "code",
   "execution_count": 35,
   "id": "0d2e5861",
   "metadata": {},
   "outputs": [
    {
     "data": {
      "text/plain": [
       "{1, 1.1, 100, 2, 200, 3, 300, 400, 'a', 'abcdef', 'b', 'c', 'd', 'e'}"
      ]
     },
     "execution_count": 35,
     "metadata": {},
     "output_type": "execute_result"
    }
   ],
   "source": [
    "var1"
   ]
  },
  {
   "cell_type": "code",
   "execution_count": 36,
   "id": "06914bac",
   "metadata": {},
   "outputs": [],
   "source": [
    "var1.remove('abcdef')"
   ]
  },
  {
   "cell_type": "code",
   "execution_count": 37,
   "id": "c7a792a1",
   "metadata": {},
   "outputs": [
    {
     "data": {
      "text/plain": [
       "{1, 1.1, 100, 2, 200, 3, 300, 400, 'a', 'b', 'c', 'd', 'e'}"
      ]
     },
     "execution_count": 37,
     "metadata": {},
     "output_type": "execute_result"
    }
   ],
   "source": [
    "var1"
   ]
  },
  {
   "cell_type": "code",
   "execution_count": 38,
   "id": "e06fb4e4",
   "metadata": {},
   "outputs": [],
   "source": [
    "# discard()"
   ]
  },
  {
   "cell_type": "code",
   "execution_count": 39,
   "id": "89b1dc38",
   "metadata": {},
   "outputs": [],
   "source": [
    "var1.discard(400)"
   ]
  },
  {
   "cell_type": "code",
   "execution_count": 40,
   "id": "e90fffc2",
   "metadata": {},
   "outputs": [
    {
     "data": {
      "text/plain": [
       "{1, 1.1, 100, 2, 200, 3, 300, 'a', 'b', 'c', 'd', 'e'}"
      ]
     },
     "execution_count": 40,
     "metadata": {},
     "output_type": "execute_result"
    }
   ],
   "source": [
    "var1"
   ]
  },
  {
   "cell_type": "code",
   "execution_count": 41,
   "id": "ebe88b72",
   "metadata": {},
   "outputs": [
    {
     "ename": "KeyError",
     "evalue": "'10000'",
     "output_type": "error",
     "traceback": [
      "\u001b[1;31m---------------------------------------------------------------------------\u001b[0m",
      "\u001b[1;31mKeyError\u001b[0m                                  Traceback (most recent call last)",
      "\u001b[1;32m~\\AppData\\Local\\Temp\\ipykernel_1416\\1617432644.py\u001b[0m in \u001b[0;36m<module>\u001b[1;34m\u001b[0m\n\u001b[1;32m----> 1\u001b[1;33m \u001b[0mvar1\u001b[0m\u001b[1;33m.\u001b[0m\u001b[0mremove\u001b[0m\u001b[1;33m(\u001b[0m\u001b[1;34m'10000'\u001b[0m\u001b[1;33m)\u001b[0m\u001b[1;33m\u001b[0m\u001b[1;33m\u001b[0m\u001b[0m\n\u001b[0m",
      "\u001b[1;31mKeyError\u001b[0m: '10000'"
     ]
    }
   ],
   "source": [
    "var1.remove('10000')"
   ]
  },
  {
   "cell_type": "code",
   "execution_count": 42,
   "id": "b59aa9e2",
   "metadata": {},
   "outputs": [],
   "source": [
    "var1.discard(\"10000\")"
   ]
  },
  {
   "cell_type": "code",
   "execution_count": 43,
   "id": "20bbbdc9",
   "metadata": {},
   "outputs": [],
   "source": [
    "#clear()"
   ]
  },
  {
   "cell_type": "code",
   "execution_count": 44,
   "id": "8983671d",
   "metadata": {},
   "outputs": [
    {
     "data": {
      "text/plain": [
       "{1, 1.1, 100, 2, 200, 3, 300, 'a', 'b', 'c', 'd', 'e'}"
      ]
     },
     "execution_count": 44,
     "metadata": {},
     "output_type": "execute_result"
    }
   ],
   "source": [
    "var1"
   ]
  },
  {
   "cell_type": "code",
   "execution_count": 45,
   "id": "ca149540",
   "metadata": {},
   "outputs": [],
   "source": [
    "var1.clear()"
   ]
  },
  {
   "cell_type": "code",
   "execution_count": 46,
   "id": "644c5a87",
   "metadata": {},
   "outputs": [
    {
     "data": {
      "text/plain": [
       "set()"
      ]
     },
     "execution_count": 46,
     "metadata": {},
     "output_type": "execute_result"
    }
   ],
   "source": [
    "var1"
   ]
  },
  {
   "cell_type": "code",
   "execution_count": 51,
   "id": "93809aeb",
   "metadata": {},
   "outputs": [],
   "source": [
    "var5=set() # empty set"
   ]
  },
  {
   "cell_type": "code",
   "execution_count": 50,
   "id": "4c2d98d8",
   "metadata": {},
   "outputs": [
    {
     "data": {
      "text/plain": [
       "set"
      ]
     },
     "execution_count": 50,
     "metadata": {},
     "output_type": "execute_result"
    }
   ],
   "source": [
    "type(var5)"
   ]
  },
  {
   "cell_type": "code",
   "execution_count": 54,
   "id": "fae0c8ca",
   "metadata": {},
   "outputs": [],
   "source": [
    "set1={1,2,3}\n",
    "set2={4,5,6}"
   ]
  },
  {
   "cell_type": "code",
   "execution_count": 53,
   "id": "d4166ca8",
   "metadata": {},
   "outputs": [],
   "source": [
    "# union"
   ]
  },
  {
   "cell_type": "code",
   "execution_count": 60,
   "id": "f6bacd96",
   "metadata": {},
   "outputs": [],
   "source": [
    "set3=set2.union(set1) # a new set"
   ]
  },
  {
   "cell_type": "code",
   "execution_count": 59,
   "id": "df11ef97",
   "metadata": {},
   "outputs": [
    {
     "data": {
      "text/plain": [
       "{1, 2, 3, 4, 5, 6}"
      ]
     },
     "execution_count": 59,
     "metadata": {},
     "output_type": "execute_result"
    }
   ],
   "source": [
    "set3"
   ]
  },
  {
   "cell_type": "code",
   "execution_count": null,
   "id": "86ab7dbf",
   "metadata": {},
   "outputs": [],
   "source": []
  },
  {
   "cell_type": "code",
   "execution_count": 66,
   "id": "0b25997a",
   "metadata": {},
   "outputs": [],
   "source": [
    "set1={1,2,3,7}\n",
    "set2={4,5,6,7}"
   ]
  },
  {
   "cell_type": "code",
   "execution_count": 63,
   "id": "1761b2a5",
   "metadata": {},
   "outputs": [
    {
     "data": {
      "text/plain": [
       "{7}"
      ]
     },
     "execution_count": 63,
     "metadata": {},
     "output_type": "execute_result"
    }
   ],
   "source": [
    "set1.intersection(set2) # a new set with common values"
   ]
  },
  {
   "cell_type": "code",
   "execution_count": 67,
   "id": "b4b74d75",
   "metadata": {},
   "outputs": [],
   "source": [
    "set2.intersection_update(set1)"
   ]
  },
  {
   "cell_type": "code",
   "execution_count": 68,
   "id": "fcb452fa",
   "metadata": {},
   "outputs": [
    {
     "data": {
      "text/plain": [
       "{1, 2, 3, 7}"
      ]
     },
     "execution_count": 68,
     "metadata": {},
     "output_type": "execute_result"
    }
   ],
   "source": [
    "set1"
   ]
  },
  {
   "cell_type": "code",
   "execution_count": 69,
   "id": "b4f201ec",
   "metadata": {},
   "outputs": [
    {
     "data": {
      "text/plain": [
       "{7}"
      ]
     },
     "execution_count": 69,
     "metadata": {},
     "output_type": "execute_result"
    }
   ],
   "source": [
    "set2"
   ]
  },
  {
   "cell_type": "code",
   "execution_count": 72,
   "id": "59b908ed",
   "metadata": {},
   "outputs": [],
   "source": [
    "set1={1,2,3,7}\n",
    "set2={4,5,6,7}\n",
    "set4=set2.difference(set1) # a new set"
   ]
  },
  {
   "cell_type": "code",
   "execution_count": 77,
   "id": "32a88175",
   "metadata": {},
   "outputs": [],
   "source": [
    "set2.difference_update(set1)"
   ]
  },
  {
   "cell_type": "code",
   "execution_count": 78,
   "id": "c8ceb6f1",
   "metadata": {},
   "outputs": [
    {
     "data": {
      "text/plain": [
       "{4, 5, 6}"
      ]
     },
     "execution_count": 78,
     "metadata": {},
     "output_type": "execute_result"
    }
   ],
   "source": [
    "set2"
   ]
  },
  {
   "cell_type": "code",
   "execution_count": 79,
   "id": "752ed35c",
   "metadata": {},
   "outputs": [
    {
     "data": {
      "text/plain": [
       "{1, 2, 3, 7}"
      ]
     },
     "execution_count": 79,
     "metadata": {},
     "output_type": "execute_result"
    }
   ],
   "source": [
    "set1"
   ]
  },
  {
   "cell_type": "code",
   "execution_count": 81,
   "id": "6d910f3c",
   "metadata": {},
   "outputs": [],
   "source": [
    "var10={\"name\":\"Person1\",\"age\":26,\"height\":134.2}"
   ]
  },
  {
   "cell_type": "code",
   "execution_count": 82,
   "id": "ccb6cfd9",
   "metadata": {},
   "outputs": [
    {
     "data": {
      "text/plain": [
       "dict"
      ]
     },
     "execution_count": 82,
     "metadata": {},
     "output_type": "execute_result"
    }
   ],
   "source": [
    "type(var10)"
   ]
  },
  {
   "cell_type": "code",
   "execution_count": 86,
   "id": "aac488bc",
   "metadata": {},
   "outputs": [
    {
     "data": {
      "text/plain": [
       "'Person1'"
      ]
     },
     "execution_count": 86,
     "metadata": {},
     "output_type": "execute_result"
    }
   ],
   "source": [
    "var10[\"name\"]"
   ]
  },
  {
   "cell_type": "code",
   "execution_count": 84,
   "id": "f518aaec",
   "metadata": {},
   "outputs": [
    {
     "data": {
      "text/plain": [
       "134.2"
      ]
     },
     "execution_count": 84,
     "metadata": {},
     "output_type": "execute_result"
    }
   ],
   "source": [
    "var10[\"height\"]"
   ]
  },
  {
   "cell_type": "code",
   "execution_count": 87,
   "id": "75f66771",
   "metadata": {},
   "outputs": [],
   "source": [
    "var11={0:\"Person1\",1:26,2:134.2}"
   ]
  },
  {
   "cell_type": "code",
   "execution_count": 88,
   "id": "2945c5ce",
   "metadata": {},
   "outputs": [
    {
     "data": {
      "text/plain": [
       "{0: 'Person1', 1: 26, 2: 134.2}"
      ]
     },
     "execution_count": 88,
     "metadata": {},
     "output_type": "execute_result"
    }
   ],
   "source": [
    "var11"
   ]
  },
  {
   "cell_type": "code",
   "execution_count": 91,
   "id": "9a38b9a6",
   "metadata": {},
   "outputs": [
    {
     "data": {
      "text/plain": [
       "'Person1'"
      ]
     },
     "execution_count": 91,
     "metadata": {},
     "output_type": "execute_result"
    }
   ],
   "source": [
    "var11[0]"
   ]
  },
  {
   "cell_type": "code",
   "execution_count": 92,
   "id": "776dedf8",
   "metadata": {},
   "outputs": [
    {
     "data": {
      "text/plain": [
       "26"
      ]
     },
     "execution_count": 92,
     "metadata": {},
     "output_type": "execute_result"
    }
   ],
   "source": [
    "var11[1]"
   ]
  },
  {
   "cell_type": "code",
   "execution_count": 93,
   "id": "ba550edc",
   "metadata": {},
   "outputs": [],
   "source": [
    "var11={0:\"Person1\",0:26,2:134.2}"
   ]
  },
  {
   "cell_type": "code",
   "execution_count": 94,
   "id": "d7bf6773",
   "metadata": {},
   "outputs": [
    {
     "data": {
      "text/plain": [
       "{0: 26, 2: 134.2}"
      ]
     },
     "execution_count": 94,
     "metadata": {},
     "output_type": "execute_result"
    }
   ],
   "source": [
    "var11"
   ]
  },
  {
   "cell_type": "code",
   "execution_count": 95,
   "id": "b4437d9e",
   "metadata": {},
   "outputs": [],
   "source": [
    "var11={0:\"Person1\",1:26,2:26}"
   ]
  },
  {
   "cell_type": "code",
   "execution_count": 96,
   "id": "0d7536f9",
   "metadata": {},
   "outputs": [
    {
     "data": {
      "text/plain": [
       "{0: 'Person1', 1: 26, 2: 26}"
      ]
     },
     "execution_count": 96,
     "metadata": {},
     "output_type": "execute_result"
    }
   ],
   "source": [
    "var11"
   ]
  },
  {
   "cell_type": "code",
   "execution_count": 97,
   "id": "eb69fdd7",
   "metadata": {},
   "outputs": [
    {
     "data": {
      "text/plain": [
       "{'name': 'Person1', 'age': 26, 'height': 134.2}"
      ]
     },
     "execution_count": 97,
     "metadata": {},
     "output_type": "execute_result"
    }
   ],
   "source": [
    "var10"
   ]
  },
  {
   "cell_type": "code",
   "execution_count": 99,
   "id": "2090d9aa",
   "metadata": {},
   "outputs": [],
   "source": [
    "var10[\"name\"]=\"person2\""
   ]
  },
  {
   "cell_type": "code",
   "execution_count": 100,
   "id": "5484556d",
   "metadata": {},
   "outputs": [
    {
     "data": {
      "text/plain": [
       "{'name': 'person2', 'age': 26, 'height': 134.2}"
      ]
     },
     "execution_count": 100,
     "metadata": {},
     "output_type": "execute_result"
    }
   ],
   "source": [
    "var10"
   ]
  },
  {
   "cell_type": "code",
   "execution_count": 101,
   "id": "cf430912",
   "metadata": {},
   "outputs": [],
   "source": [
    "del var10[\"age\"]"
   ]
  },
  {
   "cell_type": "code",
   "execution_count": 102,
   "id": "8028f17f",
   "metadata": {},
   "outputs": [
    {
     "data": {
      "text/plain": [
       "{'name': 'person2', 'height': 134.2}"
      ]
     },
     "execution_count": 102,
     "metadata": {},
     "output_type": "execute_result"
    }
   ],
   "source": [
    "var10"
   ]
  },
  {
   "cell_type": "code",
   "execution_count": 104,
   "id": "abae2b3f",
   "metadata": {},
   "outputs": [],
   "source": [
    "var10[\"wih\"]=100"
   ]
  },
  {
   "cell_type": "code",
   "execution_count": 105,
   "id": "a955bff1",
   "metadata": {},
   "outputs": [
    {
     "data": {
      "text/plain": [
       "{'name': 'person2', 'height': 134.2, 'wih': 100}"
      ]
     },
     "execution_count": 105,
     "metadata": {},
     "output_type": "execute_result"
    }
   ],
   "source": [
    "var10"
   ]
  },
  {
   "cell_type": "code",
   "execution_count": 106,
   "id": "e431a95a",
   "metadata": {},
   "outputs": [],
   "source": [
    "#update()"
   ]
  },
  {
   "cell_type": "code",
   "execution_count": 107,
   "id": "9cb24cda",
   "metadata": {},
   "outputs": [],
   "source": [
    "var10.update({\"name\":\"person3\",\"wih\":200})"
   ]
  },
  {
   "cell_type": "code",
   "execution_count": 108,
   "id": "ffeedca1",
   "metadata": {},
   "outputs": [
    {
     "data": {
      "text/plain": [
       "{'name': 'person3', 'height': 134.2, 'wih': 200}"
      ]
     },
     "execution_count": 108,
     "metadata": {},
     "output_type": "execute_result"
    }
   ],
   "source": [
    "var10"
   ]
  },
  {
   "cell_type": "code",
   "execution_count": 109,
   "id": "4270e087",
   "metadata": {},
   "outputs": [],
   "source": [
    "var10.update({\"name1\":\"person3\",\"wih1\":200})"
   ]
  },
  {
   "cell_type": "code",
   "execution_count": 110,
   "id": "2f79da10",
   "metadata": {},
   "outputs": [
    {
     "data": {
      "text/plain": [
       "{'name': 'person3',\n",
       " 'height': 134.2,\n",
       " 'wih': 200,\n",
       " 'name1': 'person3',\n",
       " 'wih1': 200}"
      ]
     },
     "execution_count": 110,
     "metadata": {},
     "output_type": "execute_result"
    }
   ],
   "source": [
    "var10"
   ]
  },
  {
   "cell_type": "code",
   "execution_count": 111,
   "id": "fc5b7930",
   "metadata": {},
   "outputs": [
    {
     "ename": "NameError",
     "evalue": "name 'pop' is not defined",
     "output_type": "error",
     "traceback": [
      "\u001b[1;31m---------------------------------------------------------------------------\u001b[0m",
      "\u001b[1;31mNameError\u001b[0m                                 Traceback (most recent call last)",
      "\u001b[1;32m~\\AppData\\Local\\Temp\\ipykernel_1416\\242303091.py\u001b[0m in \u001b[0;36m<module>\u001b[1;34m\u001b[0m\n\u001b[1;32m----> 1\u001b[1;33m \u001b[0mpop\u001b[0m\u001b[1;33m(\u001b[0m\u001b[1;33m)\u001b[0m\u001b[1;33m\u001b[0m\u001b[1;33m\u001b[0m\u001b[0m\n\u001b[0m",
      "\u001b[1;31mNameError\u001b[0m: name 'pop' is not defined"
     ]
    }
   ],
   "source": [
    "#pop()"
   ]
  },
  {
   "cell_type": "code",
   "execution_count": 112,
   "id": "2c2aa090",
   "metadata": {},
   "outputs": [
    {
     "data": {
      "text/plain": [
       "'person3'"
      ]
     },
     "execution_count": 112,
     "metadata": {},
     "output_type": "execute_result"
    }
   ],
   "source": [
    "var10.pop('name1')"
   ]
  },
  {
   "cell_type": "code",
   "execution_count": 113,
   "id": "ff0e4585",
   "metadata": {},
   "outputs": [
    {
     "data": {
      "text/plain": [
       "{'name': 'person3', 'height': 134.2, 'wih': 200, 'wih1': 200}"
      ]
     },
     "execution_count": 113,
     "metadata": {},
     "output_type": "execute_result"
    }
   ],
   "source": [
    "var10"
   ]
  },
  {
   "cell_type": "code",
   "execution_count": 115,
   "id": "a613ea67",
   "metadata": {},
   "outputs": [
    {
     "data": {
      "text/plain": [
       "('wih1', 200)"
      ]
     },
     "execution_count": 115,
     "metadata": {},
     "output_type": "execute_result"
    }
   ],
   "source": [
    "var10.popitem()"
   ]
  },
  {
   "cell_type": "code",
   "execution_count": 116,
   "id": "d4c15f25",
   "metadata": {},
   "outputs": [
    {
     "data": {
      "text/plain": [
       "{'name': 'person3', 'height': 134.2, 'wih': 200}"
      ]
     },
     "execution_count": 116,
     "metadata": {},
     "output_type": "execute_result"
    }
   ],
   "source": [
    "var10"
   ]
  },
  {
   "cell_type": "code",
   "execution_count": 117,
   "id": "4def9704",
   "metadata": {},
   "outputs": [
    {
     "data": {
      "text/plain": [
       "dict_keys(['name', 'height', 'wih'])"
      ]
     },
     "execution_count": 117,
     "metadata": {},
     "output_type": "execute_result"
    }
   ],
   "source": [
    "var10.keys()"
   ]
  },
  {
   "cell_type": "code",
   "execution_count": 118,
   "id": "820ada5e",
   "metadata": {},
   "outputs": [
    {
     "data": {
      "text/plain": [
       "dict_values(['person3', 134.2, 200])"
      ]
     },
     "execution_count": 118,
     "metadata": {},
     "output_type": "execute_result"
    }
   ],
   "source": [
    "var10.values()"
   ]
  },
  {
   "cell_type": "code",
   "execution_count": 119,
   "id": "7a661cae",
   "metadata": {},
   "outputs": [],
   "source": [
    "#items()"
   ]
  },
  {
   "cell_type": "code",
   "execution_count": 120,
   "id": "5ef22122",
   "metadata": {},
   "outputs": [
    {
     "data": {
      "text/plain": [
       "dict_items([('name', 'person3'), ('height', 134.2), ('wih', 200)])"
      ]
     },
     "execution_count": 120,
     "metadata": {},
     "output_type": "execute_result"
    }
   ],
   "source": [
    "var10.items()"
   ]
  },
  {
   "cell_type": "code",
   "execution_count": 121,
   "id": "e11f537b",
   "metadata": {},
   "outputs": [],
   "source": [
    "var12=var10.copy()"
   ]
  },
  {
   "cell_type": "code",
   "execution_count": 122,
   "id": "fe5f15f1",
   "metadata": {},
   "outputs": [
    {
     "data": {
      "text/plain": [
       "{'name': 'person3', 'height': 134.2, 'wih': 200}"
      ]
     },
     "execution_count": 122,
     "metadata": {},
     "output_type": "execute_result"
    }
   ],
   "source": [
    "var12"
   ]
  },
  {
   "cell_type": "code",
   "execution_count": 123,
   "id": "28b70a38",
   "metadata": {},
   "outputs": [],
   "source": [
    "var14={}"
   ]
  },
  {
   "cell_type": "code",
   "execution_count": 124,
   "id": "afefb9f8",
   "metadata": {},
   "outputs": [
    {
     "data": {
      "text/plain": [
       "dict"
      ]
     },
     "execution_count": 124,
     "metadata": {},
     "output_type": "execute_result"
    }
   ],
   "source": [
    "type(var14)"
   ]
  },
  {
   "cell_type": "code",
   "execution_count": 125,
   "id": "ddb89c73",
   "metadata": {},
   "outputs": [],
   "source": [
    "var15={1:{2:100}}"
   ]
  },
  {
   "cell_type": "code",
   "execution_count": 129,
   "id": "fc01a4cb",
   "metadata": {},
   "outputs": [
    {
     "data": {
      "text/plain": [
       "100"
      ]
     },
     "execution_count": 129,
     "metadata": {},
     "output_type": "execute_result"
    }
   ],
   "source": [
    "var15[1][2]"
   ]
  },
  {
   "cell_type": "code",
   "execution_count": 156,
   "id": "00b4f000",
   "metadata": {},
   "outputs": [],
   "source": [
    "l=[\"a\",\"b\",\"c\",\"d\",\"e\"]"
   ]
  },
  {
   "cell_type": "code",
   "execution_count": 157,
   "id": "1ca9892b",
   "metadata": {},
   "outputs": [
    {
     "data": {
      "text/plain": [
       "'abcde'"
      ]
     },
     "execution_count": 157,
     "metadata": {},
     "output_type": "execute_result"
    }
   ],
   "source": [
    "\"\".join(l)"
   ]
  },
  {
   "cell_type": "code",
   "execution_count": 147,
   "id": "bb101880",
   "metadata": {},
   "outputs": [],
   "source": [
    "var16=\"s\""
   ]
  },
  {
   "cell_type": "code",
   "execution_count": 148,
   "id": "5c8f4dd3",
   "metadata": {},
   "outputs": [
    {
     "data": {
      "text/plain": [
       "'asadasdbsadasddsadasdc'"
      ]
     },
     "execution_count": 148,
     "metadata": {},
     "output_type": "execute_result"
    }
   ],
   "source": [
    "var16.join(l)"
   ]
  },
  {
   "cell_type": "code",
   "execution_count": null,
   "id": "a3f9c4d7",
   "metadata": {},
   "outputs": [],
   "source": []
  }
 ],
 "metadata": {
  "kernelspec": {
   "display_name": "Python 3 (ipykernel)",
   "language": "python",
   "name": "python3"
  },
  "language_info": {
   "codemirror_mode": {
    "name": "ipython",
    "version": 3
   },
   "file_extension": ".py",
   "mimetype": "text/x-python",
   "name": "python",
   "nbconvert_exporter": "python",
   "pygments_lexer": "ipython3",
   "version": "3.9.13"
  }
 },
 "nbformat": 4,
 "nbformat_minor": 5
}
